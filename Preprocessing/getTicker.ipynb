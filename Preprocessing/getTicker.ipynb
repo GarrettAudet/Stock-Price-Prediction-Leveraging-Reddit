{
 "cells": [
  {
   "cell_type": "code",
   "execution_count": null,
   "metadata": {},
   "outputs": [],
   "source": [
    "import pandas as pd"
   ]
  },
  {
   "cell_type": "code",
   "execution_count": null,
   "metadata": {},
   "outputs": [],
   "source": [
    "all_companies = pd.read_csv(\"./Data/all_companies.csv\")\n",
    "subs = pd.read_csv(\"./Data/sub_info_all.csv\")"
   ]
  },
  {
   "cell_type": "code",
   "execution_count": null,
   "metadata": {},
   "outputs": [],
   "source": [
    "# Function to do exact match for tickers\n",
    "def get_ticker(text):\n",
    "    \n",
    "    # List to store the ticker\n",
    "    ticker = []\n",
    "    \n",
    "    # For each ticker\n",
    "    for i in range(len(all_companies[\"Symbol\"])):\n",
    "        \n",
    "        # Check if each ticker is in the text (added a space on each side to make each ticker unique)\n",
    "        if (all_companies[\"Symbol\"][i].center(len(all_companies[\"Symbol\"][i])+2) in text):\n",
    "            \n",
    "            # Add it to the list of tickers if it is found\n",
    "            ticker.append(all_companies[\"Symbol\"][i])\n",
    "    \n",
    "    return ticker"
   ]
  },
  {
   "cell_type": "code",
   "execution_count": null,
   "metadata": {},
   "outputs": [],
   "source": [
    "# Add another column for ticker\n",
    "subs[\"Ticker\"] = subs[\"text\"].map(get_ticker)\n",
    "\n",
    "# Display\n",
    "subs"
   ]
  },
  {
   "cell_type": "code",
   "execution_count": null,
   "metadata": {},
   "outputs": [],
   "source": [
    "# Save ticker names\n",
    "subs.to_csv(\"./Data/sub_info_all.csv\", index=False)"
   ]
  },
  {
   "cell_type": "code",
   "execution_count": null,
   "metadata": {},
   "outputs": [],
   "source": [
    "\"\"\"\n",
    "Explode the list of tickers to create a row per ticker mentioned\n",
    "Once the tickers are found, create a new column which retrieves the yahoo finance data from date of post to one month ahead\n",
    "Convert the data frame into one row (https://stackoverflow.com/questions/47736022/convert-a-pandas-dataframe-into-a-single-row-dataframe)\n",
    "Take that column and turn it into a list\n",
    "Concatenate all the one-row data frames by stacking them\n",
    "Append the data frame with all the stock information with the subs data frame\n",
    "\"\"\""
   ]
  },
  {
   "cell_type": "code",
   "execution_count": 6,
   "metadata": {},
   "outputs": [
    {
     "name": "stderr",
     "output_type": "stream",
     "text": [
      "[NbConvertApp] Converting notebook getTicker.ipynb to script\n",
      "[NbConvertApp] Writing 1535 bytes to getTicker.py\n"
     ]
    }
   ],
   "source": [
    " !jupyter nbconvert --to script getTicker.ipynb"
   ]
  },
  {
   "cell_type": "code",
   "execution_count": null,
   "metadata": {},
   "outputs": [],
   "source": []
  }
 ],
 "metadata": {
  "kernelspec": {
   "display_name": "Python 3",
   "language": "python",
   "name": "python3"
  },
  "language_info": {
   "codemirror_mode": {
    "name": "ipython",
    "version": 3
   },
   "file_extension": ".py",
   "mimetype": "text/x-python",
   "name": "python",
   "nbconvert_exporter": "python",
   "pygments_lexer": "ipython3",
   "version": "3.7.3"
  }
 },
 "nbformat": 4,
 "nbformat_minor": 2
}
