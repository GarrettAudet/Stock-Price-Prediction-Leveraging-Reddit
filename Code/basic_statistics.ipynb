{
 "cells": [
  {
   "cell_type": "code",
   "execution_count": 1,
   "id": "ae1a2e6b",
   "metadata": {},
   "outputs": [],
   "source": [
    "import pandas as pd"
   ]
  },
  {
   "cell_type": "code",
   "execution_count": 2,
   "id": "28a894d1",
   "metadata": {},
   "outputs": [
    {
     "name": "stdout",
     "output_type": "stream",
     "text": [
      "940785\n",
      "The number of unique posts is:  484171\n"
     ]
    }
   ],
   "source": [
    "# Load data\n",
    "df = pd.read_csv(\"all_merged_sw.csv\", \n",
    "                 usecols=[\"post_id\", \"author_id\", \"ticker\",\n",
    "                          \"compound_score\", \"post_type\", \"author_trust\",\n",
    "                          \"trustworthy\"\n",
    "                         ])\n",
    "\n",
    "print(len(df.index))\n",
    "print(\"The number of unique posts is: \", len(df['post_id'].unique()))"
   ]
  },
  {
   "cell_type": "code",
   "execution_count": 3,
   "id": "4e1ce797",
   "metadata": {},
   "outputs": [
    {
     "name": "stdout",
     "output_type": "stream",
     "text": [
      "The number of submissions is : 40882\n",
      "The number of unique submissions is : 18310\n",
      "The number of comments is : 899903\n",
      "The number of unique comments is : 465861\n"
     ]
    }
   ],
   "source": [
    "# Get number of submissions\n",
    "print(\"The number of submissions is :\", len(df[df['post_type'] == \"submission\"].index))\n",
    "print(\"The number of unique submissions is :\", \n",
    "      len(df[df['post_type'] == \"submission\"].drop_duplicates(subset=[\"post_id\"])))\n",
    "\n",
    "# Get number of comments\n",
    "print(\"The number of comments is :\", len(df[df['post_type'] == \"comment\"].index))\n",
    "print(\"The number of unique comments is :\", \n",
    "      len(df[df['post_type'] == \"comment\"].drop_duplicates(subset=[\"post_id\"])))"
   ]
  },
  {
   "cell_type": "code",
   "execution_count": 4,
   "id": "c7e52644",
   "metadata": {},
   "outputs": [
    {
     "name": "stdout",
     "output_type": "stream",
     "text": [
      "The number of unique authors is : 67092\n",
      "The number of unique tickers is : 2371\n"
     ]
    }
   ],
   "source": [
    "# Get number of authors\n",
    "print(\"The number of unique authors is :\", len(df['author_id'].unique()))\n",
    "\n",
    "# Get number of tickers\n",
    "print(\"The number of unique tickers is :\", len(df['ticker'].unique()))"
   ]
  },
  {
   "cell_type": "code",
   "execution_count": 5,
   "id": "c35a4549",
   "metadata": {},
   "outputs": [
    {
     "name": "stdout",
     "output_type": "stream",
     "text": [
      "The number of authors with only one post is:  268\n",
      "The percentage of authors with only one post is:  0.0005535234452290616\n"
     ]
    }
   ],
   "source": [
    "# Group by author_id\n",
    "grouped = df.groupby('author_id')\n",
    "\n",
    "# Get the size of each group\n",
    "size = grouped.size()\n",
    "\n",
    "# Basic statistics\n",
    "print(\"The number of authors with only one post is: \", len(size[size == 1].index))\n",
    "print(\"The percentage of authors with only one post is: \", len(size[size == 1].index)/len(df['post_id'].unique()))"
   ]
  },
  {
   "cell_type": "code",
   "execution_count": 6,
   "id": "13f99661",
   "metadata": {},
   "outputs": [
    {
     "name": "stdout",
     "output_type": "stream",
     "text": [
      "Number of unique users is:  67092 \n",
      "\n",
      "Number of users with 0% trust:  13507\n",
      "Number of users with 0-24.99% trust:  6368\n",
      "Number of users with 25-49.99% trust:  18396\n",
      "Number of users with 50-74.99% trust:  18136\n",
      "Number of users with 75-99.99% trust:  3910\n",
      "Number of users with 100% trust:  6775 \n",
      "\n",
      "% of users with 0% trust:  20.132057473320216\n",
      "% of users with 0-24.99% trust:  9.491444583556907\n",
      "% of users with 25-49.99% trust:  27.419066356644606\n",
      "% of users with 50-74.99% trust:  27.03153878256722\n",
      "% of users with 75-99.99% trust:  5.827818517856078\n",
      "% of users with 100% trust:  10.09807428605497\n"
     ]
    }
   ],
   "source": [
    "# Print basic statistics\n",
    "print(\"Number of unique users is: \", len(df['author_id'].unique()), \"\\n\")\n",
    "\n",
    "print(\"Number of users with 0% trust: \", len(df[df['author_trust'] == 0]['author_id'].unique()))\n",
    "print(\"Number of users with 0-24.99% trust: \", len(df[(0 < df['author_trust']) & (df['author_trust'] < 0.25)]['author_id'].unique()))\n",
    "print(\"Number of users with 25-49.99% trust: \", len(df[(0.25 <= df['author_trust']) & (df['author_trust'] < 0.5)]['author_id'].unique()))\n",
    "print(\"Number of users with 50-74.99% trust: \", len(df[(0.5 <= df['author_trust']) & (df['author_trust'] < 0.75)]['author_id'].unique()))\n",
    "print(\"Number of users with 75-99.99% trust: \", len(df[(0.75 <= df['author_trust']) & (df['author_trust'] < 1)]['author_id'].unique()))\n",
    "print(\"Number of users with 100% trust: \", len(df[df['author_trust'] == 1]['author_id'].unique()), \"\\n\")\n",
    "\n",
    "print(\"% of users with 0% trust: \", len(df[df['author_trust'] == 0]['author_id'].unique())/len(df['author_id'].unique())*100)\n",
    "print(\"% of users with 0-24.99% trust: \", len(df[(0 < df['author_trust']) & (df['author_trust'] < 0.25)]['author_id'].unique())/len(df['author_id'].unique())*100)\n",
    "print(\"% of users with 25-49.99% trust: \", len(df[(0.25 <= df['author_trust']) & (df['author_trust'] < 0.5)]['author_id'].unique())/len(df['author_id'].unique())*100)\n",
    "print(\"% of users with 50-74.99% trust: \", len(df[(0.5 <= df['author_trust']) & (df['author_trust'] < 0.75)]['author_id'].unique())/len(df['author_id'].unique())*100)\n",
    "print(\"% of users with 75-99.99% trust: \", len(df[(0.75 <= df['author_trust']) & (df['author_trust'] < 1)]['author_id'].unique())/len(df['author_id'].unique())*100)\n",
    "print(\"% of users with 100% trust: \", len(df[df['author_trust'] == 1]['author_id'].unique())/len(df['author_id'].unique())*100)"
   ]
  },
  {
   "cell_type": "markdown",
   "id": "f6960f5d",
   "metadata": {},
   "source": [
    "# Trust Filter"
   ]
  },
  {
   "cell_type": "code",
   "execution_count": 7,
   "id": "75f8dc39",
   "metadata": {},
   "outputs": [
    {
     "name": "stdout",
     "output_type": "stream",
     "text": [
      "36578\n",
      "The number of unique posts is:  15577\n"
     ]
    }
   ],
   "source": [
    "df = df[(df[\"author_trust\"] >= 0.8) & (df[\"trustworthy\"] == 1)]\n",
    "\n",
    "print(len(df.index))\n",
    "print(\"The number of unique posts is: \", len(df['post_id'].unique()))"
   ]
  },
  {
   "cell_type": "code",
   "execution_count": 8,
   "id": "01747b17",
   "metadata": {},
   "outputs": [
    {
     "name": "stdout",
     "output_type": "stream",
     "text": [
      "The number of submissions is : 819\n",
      "The number of unique submissions is : 545\n",
      "The number of comments is : 35759\n",
      "The number of unique comments is : 15032\n"
     ]
    }
   ],
   "source": [
    "# Get number of submissions\n",
    "print(\"The number of submissions is :\", len(df[df['post_type'] == \"submission\"].index))\n",
    "print(\"The number of unique submissions is :\", \n",
    "      len(df[df['post_type'] == \"submission\"].drop_duplicates(subset=[\"post_id\"])))\n",
    "\n",
    "# Get number of comments\n",
    "print(\"The number of comments is :\", len(df[df['post_type'] == \"comment\"].index))\n",
    "print(\"The number of unique comments is :\", \n",
    "      len(df[df['post_type'] == \"comment\"].drop_duplicates(subset=[\"post_id\"])))"
   ]
  },
  {
   "cell_type": "code",
   "execution_count": 9,
   "id": "c375c4e1",
   "metadata": {},
   "outputs": [
    {
     "name": "stdout",
     "output_type": "stream",
     "text": [
      "The number of unique authors is : 8930\n",
      "The number of unique tickers is : 1421\n"
     ]
    }
   ],
   "source": [
    "# Get number of authors\n",
    "print(\"The number of unique authors is :\", len(df['author_id'].unique()))\n",
    "\n",
    "# Get number of tickers\n",
    "print(\"The number of unique tickers is :\", len(df['ticker'].unique()))"
   ]
  },
  {
   "cell_type": "code",
   "execution_count": 10,
   "id": "ec068a90",
   "metadata": {},
   "outputs": [
    {
     "name": "stdout",
     "output_type": "stream",
     "text": [
      "The number of authors with only one post is:  2\n",
      "The percentage of authors with only one post is:  0.0001283944276818386\n"
     ]
    }
   ],
   "source": [
    "# Group by author_id\n",
    "grouped = df.groupby('author_id')\n",
    "\n",
    "# Get the size of each group\n",
    "size = grouped.size()\n",
    "\n",
    "# Basic statistics\n",
    "print(\"The number of authors with only one post is: \", len(size[size == 1].index))\n",
    "print(\"The percentage of authors with only one post is: \", len(size[size == 1].index)/len(df['post_id'].unique()))"
   ]
  },
  {
   "cell_type": "code",
   "execution_count": 12,
   "id": "8737b084",
   "metadata": {},
   "outputs": [
    {
     "name": "stdout",
     "output_type": "stream",
     "text": [
      "Number of unique users is:  8930 \n",
      "\n",
      "Number of users with 75-99.99% trust:  2155\n",
      "Number of users with 100% trust:  6775 \n",
      "\n",
      "% of users with 75-99.99% trust:  24.132138857782756\n",
      "% of users with 100% trust:  75.86786114221724\n"
     ]
    }
   ],
   "source": [
    "# Print basic statistics\n",
    "print(\"Number of unique users is: \", len(df['author_id'].unique()), \"\\n\")\n",
    "\n",
    "print(\"Number of users with 75-99.99% trust: \", len(df[(0.75 <= df['author_trust']) & (df['author_trust'] < 1)]['author_id'].unique()))\n",
    "print(\"Number of users with 100% trust: \", len(df[df['author_trust'] == 1]['author_id'].unique()), \"\\n\")\n",
    "\n",
    "print(\"% of users with 75-99.99% trust: \", len(df[(0.75 <= df['author_trust']) & (df['author_trust'] < 1)]['author_id'].unique())/len(df['author_id'].unique())*100)\n",
    "print(\"% of users with 100% trust: \", len(df[df['author_trust'] == 1]['author_id'].unique())/len(df['author_id'].unique())*100)"
   ]
  },
  {
   "cell_type": "code",
   "execution_count": null,
   "id": "b0c0170c",
   "metadata": {},
   "outputs": [],
   "source": []
  }
 ],
 "metadata": {
  "kernelspec": {
   "display_name": "Python 3",
   "language": "python",
   "name": "python3"
  },
  "language_info": {
   "codemirror_mode": {
    "name": "ipython",
    "version": 3
   },
   "file_extension": ".py",
   "mimetype": "text/x-python",
   "name": "python",
   "nbconvert_exporter": "python",
   "pygments_lexer": "ipython3",
   "version": "3.8.10"
  }
 },
 "nbformat": 4,
 "nbformat_minor": 5
}
